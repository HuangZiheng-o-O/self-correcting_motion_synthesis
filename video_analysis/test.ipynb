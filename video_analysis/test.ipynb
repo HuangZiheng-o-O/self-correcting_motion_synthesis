{
 "cells": [
  {
   "cell_type": "code",
   "execution_count": 6,
   "id": "initial_id",
   "metadata": {
    "ExecuteTime": {
     "end_time": "2024-10-28T12:59:24.725866Z",
     "start_time": "2024-10-28T12:59:23.799436Z"
    },
    "collapsed": true
   },
   "outputs": [],
   "source": [
    "from llm_utils import generate_sequence_explanation_prompt\n",
    "from llm_utils import generate_fine_motion_control_prompt\n",
    "from llm_utils import generate_sequence_explanation_prompt_json\n",
    "from llm_utils import sequence_analyze\n",
    "from llm_utils import analyze_fine_moton_control_txt\n",
    "\n",
    "from llm_utils import generate_comparison_feedback_prompt\n",
    "from llm_utils import decide_which_part_needs_editing_prompt\n",
    "\n",
    "from llm_utils import decide_which_part_needs_editing\n",
    "from llm_utils import test_generate_comparison_feedback\n",
    "\n",
    "from llm_utils import sequence_analyze_nobodypart\n",
    "from llm_utils import sequence_analyze_nobodypart_jsontool\n"
   ]
  },
  {
   "cell_type": "code",
   "execution_count": 9,
   "id": "4d06867a",
   "metadata": {},
   "outputs": [
    {
     "name": "stdout",
     "output_type": "stream",
     "text": [
      "step1: The man spreads his legs wide and simultaneously engages his core while performing a rowing motion with his arms, pulling them back as if gripping an oar.\n",
      "\n",
      "step2: The man's legs then push off the ground, generating upward momentum, while his arms swing forward to aid in the leap, allowing him to clear the obstacle with agility typical of a parkour expert.\n",
      "[\n",
      "    {\n",
      "        \"prompt\": \"The man spreads his legs wide and simultaneously engages his core while performing a rowing motion with his arms, pulling them back as if gripping an oar.\",\n",
      "        \"original prompt\": \"The person performs a rowing motion with their legs spread wide,and then Leap over an obstacle with the agility of a parkour expert.\"\n",
      "    },\n",
      "    {\n",
      "        \"prompt\": \"The man's legs then push off the ground, generating upward momentum, while his arms swing forward to aid in the leap, allowing him to clear the obstacle with agility typical of a parkour expert.\",\n",
      "        \"original prompt\": \"The person performs a rowing motion with their legs spread wide,and then Leap over an obstacle with the agility of a parkour expert.\"\n",
      "    }\n",
      "]\n"
     ]
    }
   ],
   "source": [
    "import json\n",
    "action = \"The person performs a rowing motion with their legs spread wide,and then Leap over an obstacle with the agility of a parkour expert.\"\n",
    "sequence_analyze = sequence_analyze_nobodypart(action)\n",
    "# sequence_analyze = \"Step 1: The man spreads his legs wide and engages his core as he initiates a rowing motion, pulling his arms back while his torso leans slightly forward, coordinating the flexion of his knees and the extension of his hips to maximize the power of the movement.   \\n Step 2: The man transitions smoothly by shifting his weight onto his feet, using explosive force from his legs and arms to leap over the obstacle, dynamically extending his body in mid-air while maintaining a firm core for balance.\"\n",
    "# # 示例输入\n",
    "# action = \"The person performs a rowing motion with their legs spread wide, and then leap over an obstacle with the agility of a parkour expert.\"\n",
    "# sequence_explanation = \"\"\"\n",
    "# step1: The man spreads his legs wide while planting his feet firmly on the ground, then engages his core and pulls his arms back to prepare for the rowing motion.\n",
    "\n",
    "# step2: The man's arms move forward in a rowing motion, pulling his torso towards his legs, while he simultaneously shifts his weight onto his heels to load his legs for the subsequent leap.\n",
    "\n",
    "# step3: The man's legs then explosively push off the ground, propelling his body upward and forward as he clears the obstacle with agility, utilizing coordinated arm movement for balance and momentum.step4: The man's legs then explosively push off the ground, propelling his body upward and forward as he clears the obstacle with agility, utilizing coordinated arm movement for balance and momentum. step512.\n",
    "# \"\"\"\n",
    "\n",
    "# 执行函数\n",
    "output = sequence_analyze_nobodypart_jsontool(action, sequence_analyze)\n",
    " \n",
    "# 打印输出（格式化为 JSON）\n",
    "print(json.dumps(output, indent=4, ensure_ascii=False))"
   ]
  },
  {
   "cell_type": "code",
   "execution_count": null,
   "id": "7e7745e6",
   "metadata": {},
   "outputs": [
    {
     "ename": "AttributeError",
     "evalue": "'function' object has no attribute 'strip'",
     "output_type": "error",
     "traceback": [
      "\u001b[0;31m---------------------------------------------------------------------------\u001b[0m",
      "\u001b[0;31mAttributeError\u001b[0m                            Traceback (most recent call last)",
      "Cell \u001b[0;32mIn[8], line 2\u001b[0m\n\u001b[1;32m      1\u001b[0m \u001b[38;5;28;01mfrom\u001b[39;00m \u001b[38;5;21;01mllm_utils\u001b[39;00m \u001b[38;5;28;01mimport\u001b[39;00m sequence_analyze_nobodypart_jsontool\n\u001b[0;32m----> 2\u001b[0m output \u001b[38;5;241m=\u001b[39m \u001b[43msequence_analyze_nobodypart_jsontool\u001b[49m\u001b[43m(\u001b[49m\u001b[43maction\u001b[49m\u001b[43m,\u001b[49m\u001b[43msequence_analyze\u001b[49m\u001b[43m)\u001b[49m\n\u001b[1;32m      3\u001b[0m output\n",
      "File \u001b[0;32m/extra/xielab0/haoyum3/Ask-Anything/videochat_finetue/llm_utils/sequence_analyze.py:69\u001b[0m, in \u001b[0;36msequence_analyze_nobodypart_jsontool\u001b[0;34m(action, sequence_explanation)\u001b[0m\n\u001b[1;32m     61\u001b[0m     \u001b[38;5;28;01mreturn\u001b[39;00m sequence_explanation\n\u001b[1;32m     63\u001b[0m \u001b[38;5;66;03m# text = \"\"\"step1: The martial artist shifts their weight backward, lowering their center of gravity while bending their knees.   \u001b[39;00m\n\u001b[1;32m     64\u001b[0m \u001b[38;5;66;03m# step2: The martial artist extends their arms outward to help maintain balance as they begin to fall backward onto the tatami.   \u001b[39;00m\n\u001b[1;32m     65\u001b[0m \u001b[38;5;66;03m# step3: The martial artist tucks their chin to their chest and rolls onto their back to dissipate the impact smoothly, engaging their core muscles for control.\"\"\"\u001b[39;00m\n\u001b[0;32m---> 69\u001b[0m \u001b[38;5;28;01mimport\u001b[39;00m \u001b[38;5;21;01mjson\u001b[39;00m\n\u001b[1;32m     70\u001b[0m \u001b[38;5;28;01mimport\u001b[39;00m \u001b[38;5;21;01mre\u001b[39;00m\n\u001b[1;32m     72\u001b[0m \u001b[38;5;28;01mdef\u001b[39;00m \u001b[38;5;21msequence_analyze_nobodypart_jsontool\u001b[39m(action, sequence_explanation):\n",
      "\u001b[0;31mAttributeError\u001b[0m: 'function' object has no attribute 'strip'"
     ]
    }
   ],
   "source": []
  },
  {
   "cell_type": "code",
   "execution_count": 16,
   "id": "648c7589125aac6b",
   "metadata": {
    "ExecuteTime": {
     "end_time": "2024-10-28T13:02:40.497764Z",
     "start_time": "2024-10-28T13:02:34.149180Z"
    }
   },
   "outputs": [
    {
     "name": "stdout",
     "output_type": "stream",
     "text": [
      "step1: The man sits on a stable surface with his legs spread wide apart and engages his core while leaning forward slightly.  \n",
      "step2: The man's arms pull back in a rowing motion while simultaneously pushing his legs outward, resulting in a coordinated back and leg movement that mimics the action of rowing.\n",
      "Action: \n",
      "The person performs a rowing motion with their legs spread wide.\n",
      "Sequence Explanation: \n",
      "step1: The man sits on a stable surface with his legs spread wide apart and engages his core while leaning forward slightly.  \n",
      "step2: The man's arms pull back in a rowing motion while simultaneously pushing his legs outward, resulting in a coordinated back and leg movement that mimics the action of rowing.\n",
      "Fine Motion Control Steps: \n",
      "{\n",
      "    \"step1\": [\n",
      "        {\n",
      "            \"body part\": \"left arm\",\n",
      "            \"description\": \"The man's left arm is positioned down at his side, ready to pull.\"\n",
      "        },\n",
      "        {\n",
      "            \"body part\": \"right arm\",\n",
      "            \"description\": \"The man's right arm is extended forward, preparing to pull back.\"\n",
      "        },\n",
      "        {\n",
      "            \"body part\": \"left leg\",\n",
      "            \"description\": \"The man's left leg is spread wide and remains steady.\"\n",
      "        },\n",
      "        {\n",
      "            \"body part\": \"right leg\",\n",
      "            \"description\": \"The man's right leg is also spread wide and remains steady.\"\n",
      "        },\n",
      "        {\n",
      "            \"body part\": \"spine\",\n",
      "            \"description\": \"The man's spine is slightly leaning forward, maintaining a tall posture.\"\n",
      "        }\n",
      "    ],\n",
      "    \"step2\": [\n",
      "        {\n",
      "            \"body part\": \"left arm\",\n",
      "            \"description\": \"The man's left arm pulls back in a rowing motion.\"\n",
      "        },\n",
      "        {\n",
      "            \"body part\": \"right arm\",\n",
      "            \"description\": \"The man's right arm pulls back in a rowing motion.\"\n",
      "        },\n",
      "        {\n",
      "            \"body part\": \"left leg\",\n",
      "            \"description\": \"The man's left leg pushes outward, engaging in the rowing motion.\"\n",
      "        },\n",
      "        {\n",
      "            \"body part\": \"right leg\",\n",
      "            \"description\": \"The man's right leg pushes outward, engaging in the rowing motion.\"\n",
      "        },\n",
      "        {\n",
      "            \"body part\": \"spine\",\n",
      "            \"description\": \"The man's spine maintains stability while the upper body leans slightly back.\"\n",
      "        }\n",
      "    ]\n",
      "}\n",
      "\n",
      "\n"
     ]
    }
   ],
   "source": [
    "\n",
    "# txt = sequence_analyze(\"Perform a signature James Bond pose with a dramatic turn and gunpoint.\")\n",
    "# print(\"done\")\n",
    "\n",
    "# actions_to_test = [\n",
    "#     \"Perform a signature James Bond pose with a dramatic turn and gunpoint.\",\n",
    "#     # \"Fight with the fluid precision and power of Bruce Lee.\",\n",
    "#     # \"Perform a graceful spinning kick in the style of Jet Li.\",\n",
    "#     # \"Execute a stealthy crouch and roll like a ninja.\",\n",
    "#     # \"Leap over an obstacle with the agility of a parkour expert.\",\n",
    "#     # \"Perform a slow-motion dive while firing two handguns like in an action movie.\",\n",
    "#     # \"Execute a precise sword slash followed by a defensive stance like a samurai.\",\n",
    "#     # \"Jump from a ledge and roll upon landing to minimize impact, as seen in martial arts films.\",\n",
    "#     # \"Perform a quick disarm move to take an opponent’s weapon away.\",\n",
    "#     # \"Perform a quick, tactical reload of a firearm while maintaining a defensive stance.\"\n",
    "# ]\n",
    "actions_to_test = [\n",
    "    \"The person performs a rowing motion with their legs spread wide.\",\n",
    "    # \"A woman hops forward while holding a T-pose.\",\n",
    "    # \"The man executes a jump spin mid-air.\",\n",
    "    # \"A person crawls on the ground in a baby-like motion.\",\n",
    "    # \"A dancer spins gracefully in a ballet twirl.\",\n",
    "    # \"The computer science student attempts one-armed push-ups.\",\n",
    "    # \"The soccer player covers their ears during a goal celebration.\",\n",
    "    # \"A dad crawls on the floor to retrieve his child’s toy.\",\n",
    "    # \"The police officer sprints to chase someone on foot.\",\n",
    "    # \"A bodybuilder performs a perfect pistol squat.\"\n",
    "]\n",
    "\n",
    "for action in actions_to_test:\n",
    "   sequence_explanation, sequence_explanation2 = sequence_analyze(action)\n",
    "   \n",
    "\n",
    "###########################################################################################"
   ]
  },
  {
   "cell_type": "code",
   "execution_count": 17,
   "id": "8e83059f7d2e5ea",
   "metadata": {
    "ExecuteTime": {
     "end_time": "2024-10-28T13:02:53.765661Z",
     "start_time": "2024-10-28T13:02:53.751957Z"
    }
   },
   "outputs": [
    {
     "data": {
      "text/plain": [
       "\"step1: The man sits on a stable surface with his legs spread wide apart and engages his core while leaning forward slightly.  \\nstep2: The man's arms pull back in a rowing motion while simultaneously pushing his legs outward, resulting in a coordinated back and leg movement that mimics the action of rowing.\""
      ]
     },
     "execution_count": 17,
     "metadata": {},
     "output_type": "execute_result"
    }
   ],
   "source": [
    "sequence_explanation"
   ]
  },
  {
   "cell_type": "code",
   "execution_count": 18,
   "id": "fbabf84f1a72526c",
   "metadata": {
    "ExecuteTime": {
     "end_time": "2024-10-28T13:02:57.651714Z",
     "start_time": "2024-10-28T13:02:57.646208Z"
    }
   },
   "outputs": [
    {
     "data": {
      "text/plain": [
       "'{\\n    \"step1\": [\\n        {\\n            \"body part\": \"left arm\",\\n            \"description\": \"The man\\'s left arm is positioned down at his side, ready to pull.\"\\n        },\\n        {\\n            \"body part\": \"right arm\",\\n            \"description\": \"The man\\'s right arm is extended forward, preparing to pull back.\"\\n        },\\n        {\\n            \"body part\": \"left leg\",\\n            \"description\": \"The man\\'s left leg is spread wide and remains steady.\"\\n        },\\n        {\\n            \"body part\": \"right leg\",\\n            \"description\": \"The man\\'s right leg is also spread wide and remains steady.\"\\n        },\\n        {\\n            \"body part\": \"spine\",\\n            \"description\": \"The man\\'s spine is slightly leaning forward, maintaining a tall posture.\"\\n        }\\n    ],\\n    \"step2\": [\\n        {\\n            \"body part\": \"left arm\",\\n            \"description\": \"The man\\'s left arm pulls back in a rowing motion.\"\\n        },\\n        {\\n            \"body part\": \"right arm\",\\n            \"description\": \"The man\\'s right arm pulls back in a rowing motion.\"\\n        },\\n        {\\n            \"body part\": \"left leg\",\\n            \"description\": \"The man\\'s left leg pushes outward, engaging in the rowing motion.\"\\n        },\\n        {\\n            \"body part\": \"right leg\",\\n            \"description\": \"The man\\'s right leg pushes outward, engaging in the rowing motion.\"\\n        },\\n        {\\n            \"body part\": \"spine\",\\n            \"description\": \"The man\\'s spine maintains stability while the upper body leans slightly back.\"\\n        }\\n    ]\\n}'"
      ]
     },
     "execution_count": 18,
     "metadata": {},
     "output_type": "execute_result"
    }
   ],
   "source": [
    "sequence_explanation2"
   ]
  },
  {
   "cell_type": "code",
   "execution_count": 14,
   "id": "3868c580969d7542",
   "metadata": {
    "ExecuteTime": {
     "end_time": "2024-10-28T13:00:47.011528Z",
     "start_time": "2024-10-28T13:00:42.401813Z"
    }
   },
   "outputs": [
    {
     "name": "stdout",
     "output_type": "stream",
     "text": [
      "step1: The man bends his knees while keeping his legs spread wide, positioning his feet firmly on the ground to create a stable base.  \n",
      "step2: The man's arms pull back dynamically as he engages his back and shoulder muscles, mimicking a rowing motion, while his torso leans slightly back to maintain balance.  \n",
      "step3: The man's legs remain engaged and stable as he pushes through his heels to emphasize the propulsion aspect of the rowing motion, working in sync with his arm movements.\n",
      "[\n",
      "  {\n",
      "    \"body part\": \"left arm\",\n",
      "    \"description\": \"The man's left arm pulls back sharply, straightening out as it moves toward his torso.\"\n",
      "  },\n",
      "  {\n",
      "    \"body part\": \"right arm\",\n",
      "    \"description\": \"The man's right arm pulls back dynamically, extending outward and bending at the elbow as it mimics rowing.\"\n",
      "  },\n",
      "  {\n",
      "    \"body part\": \"left leg\",\n",
      "    \"description\": \"The man's left leg is bent at the knee, pressing firmly into the ground to provide stability.\"\n",
      "  },\n",
      "  {\n",
      "    \"body part\": \"right leg\",\n",
      "    \"description\": \"The man's right leg is also bent at the knee, pushing through the heel for propulsion.\"\n",
      "  },\n",
      "  {\n",
      "    \"body part\": \"spine\",\n",
      "    \"description\": \"The man's spine leans slightly back, maintaining a straight posture while adapting to the rowing motion.\"\n",
      "  }\n",
      "]\n"
     ]
    }
   ],
   "source": [
    "\n",
    "# Test each action and save the results in the fine_control.txt file\n",
    "for action in actions_to_test:\n",
    "    sequence_explanation, control_results = analyze_fine_moton_control_txt(action)\n",
    "\n",
    "    # Append the result to the fine_control.txt file\n",
    "    with open(\"llm_result/fine_motion_control_log_complex.txt\", \"a\") as file:\n",
    "        # Append both the sequence explanation and control results\n",
    "        file.write(\"========================\")\n",
    "        file.write(\"Action: \" + action + \"\\n\")  # Write the action description\n",
    "        file.write(\"Sequence Explanation:\\n\" + sequence_explanation + \"\\n\")  # Write the sequence explanation\n",
    "        file.write(\"Control Results:\\n\" + control_results.__str__() + \"\\n\\n\")  # Write the fine motion control results\n",
    "\n",
    "###########################################################################################"
   ]
  },
  {
   "cell_type": "code",
   "execution_count": 19,
   "id": "f29753475026469e",
   "metadata": {
    "ExecuteTime": {
     "end_time": "2024-10-28T13:03:21.575316Z",
     "start_time": "2024-10-28T13:03:21.564569Z"
    }
   },
   "outputs": [
    {
     "data": {
      "text/plain": [
       "\"step1: The man sits on a stable surface with his legs spread wide apart and engages his core while leaning forward slightly.  \\nstep2: The man's arms pull back in a rowing motion while simultaneously pushing his legs outward, resulting in a coordinated back and leg movement that mimics the action of rowing.\""
      ]
     },
     "execution_count": 19,
     "metadata": {},
     "output_type": "execute_result"
    }
   ],
   "source": [
    "sequence_explanation"
   ]
  },
  {
   "cell_type": "code",
   "execution_count": 20,
   "id": "8e0f36ccdfd68852",
   "metadata": {
    "ExecuteTime": {
     "end_time": "2024-10-28T13:03:24.058311Z",
     "start_time": "2024-10-28T13:03:24.053929Z"
    }
   },
   "outputs": [
    {
     "data": {
      "text/plain": [
       "[{'body part': 'left arm',\n",
       "  'description': \"The man's left arm pulls back sharply, straightening out as it moves toward his torso.\"},\n",
       " {'body part': 'right arm',\n",
       "  'description': \"The man's right arm pulls back dynamically, extending outward and bending at the elbow as it mimics rowing.\"},\n",
       " {'body part': 'left leg',\n",
       "  'description': \"The man's left leg is bent at the knee, pressing firmly into the ground to provide stability.\"},\n",
       " {'body part': 'right leg',\n",
       "  'description': \"The man's right leg is also bent at the knee, pushing through the heel for propulsion.\"},\n",
       " {'body part': 'spine',\n",
       "  'description': \"The man's spine leans slightly back, maintaining a straight posture while adapting to the rowing motion.\"}]"
      ]
     },
     "execution_count": 20,
     "metadata": {},
     "output_type": "execute_result"
    }
   ],
   "source": [
    "control_results"
   ]
  },
  {
   "cell_type": "code",
   "execution_count": 15,
   "id": "569fb8187800b7b",
   "metadata": {
    "ExecuteTime": {
     "end_time": "2024-10-28T13:00:52.232091Z",
     "start_time": "2024-10-28T13:00:47.019529Z"
    }
   },
   "outputs": [
    {
     "name": "stdout",
     "output_type": "stream",
     "text": [
      "Comparison Feedback Results saved to comparison_feedback_results.json\n",
      "[\n",
      "  {\n",
      "    \"body part\": \"spine\",\n",
      "    \"issue\": \"The description1 does not mention the posture or positioning of the spine during the motion.\",\n",
      "    \"editing command\": \"The man's spine remains upright as he walks in a clockwise circle.\"\n",
      "  },\n",
      "  {\n",
      "    \"body part\": \"left arm\",\n",
      "    \"issue\": \"Description1 specifies the right arm is raised, while description2 highlights action with the left arm.\",\n",
      "    \"editing command\": \"The man's left arm is raised and holds something up to his ear throughout the motion.\"\n",
      "  },\n",
      "  {\n",
      "    \"body part\": \"right arm\",\n",
      "    \"issue\": \"Description1 states that the right arm is held up, which does not match the left arm focus in description2.\",\n",
      "    \"editing command\": \"The man's right arm is relaxed and not actively participating in the motion.\"\n",
      "  },\n",
      "  {\n",
      "    \"body part\": \"left leg\",\n",
      "    \"issue\": \"Both descriptions do not explicitly mention the movement or position of the left leg.\",\n",
      "    \"editing command\": \"The man's left leg moves in synchronization with the clockwise walking pattern.\"\n",
      "  },\n",
      "  {\n",
      "    \"body part\": \"right leg\",\n",
      "    \"issue\": \"Both descriptions do not explicitly mention the movement or position of the right leg.\",\n",
      "    \"editing command\": \"The man's right leg also participates in the clockwise walking movement.\"\n",
      "  }\n",
      "]\n"
     ]
    },
    {
     "data": {
      "text/plain": [
       "[{'body part': 'spine',\n",
       "  'issue': 'The description1 does not mention the posture or positioning of the spine during the motion.',\n",
       "  'editing command': \"The man's spine remains upright as he walks in a clockwise circle.\"},\n",
       " {'body part': 'left arm',\n",
       "  'issue': 'Description1 specifies the right arm is raised, while description2 highlights action with the left arm.',\n",
       "  'editing command': \"The man's left arm is raised and holds something up to his ear throughout the motion.\"},\n",
       " {'body part': 'right arm',\n",
       "  'issue': 'Description1 states that the right arm is held up, which does not match the left arm focus in description2.',\n",
       "  'editing command': \"The man's right arm is relaxed and not actively participating in the motion.\"},\n",
       " {'body part': 'left leg',\n",
       "  'issue': 'Both descriptions do not explicitly mention the movement or position of the left leg.',\n",
       "  'editing command': \"The man's left leg moves in synchronization with the clockwise walking pattern.\"},\n",
       " {'body part': 'right leg',\n",
       "  'issue': 'Both descriptions do not explicitly mention the movement or position of the right leg.',\n",
       "  'editing command': \"The man's right leg also participates in the clockwise walking movement.\"}]"
      ]
     },
     "execution_count": 15,
     "metadata": {},
     "output_type": "execute_result"
    }
   ],
   "source": [
    "\n",
    "# 金标准和带偏差的动作描述\n",
    "\n",
    "\n",
    "# 第二个金标准和带偏差的动作描述\n",
    "description12 = \"\"\"\n",
    "a person walks in a clockwise circle, while holding their right hand & arm up throughout the motion.\n",
    "\"\"\"\n",
    "\n",
    "description22 = \"\"\"\n",
    "he man is walking clockwise in a circle while holding something up to his ear with his left arm.\n",
    "\"\"\"\n",
    "\n",
    "# 测试生成反馈\n",
    "test_generate_comparison_feedback(description12, description22)\n",
    "# `description1` (generated by a model) and `description2` (a gold-standard or reference description)"
   ]
  },
  {
   "cell_type": "code",
   "execution_count": 22,
   "id": "41a434ca8d787b41",
   "metadata": {
    "ExecuteTime": {
     "end_time": "2024-10-28T13:32:58.003932Z",
     "start_time": "2024-10-28T13:32:54.602271Z"
    }
   },
   "outputs": [
    {
     "name": "stdout",
     "output_type": "stream",
     "text": [
      "Raw feedback: {\n",
      "  \"action_description\": \"A person walks in a clockwise circle, while holding their right hand & arm up throughout the motion.\",\n",
      "  \"gold_standard\": \"The man is walking in a circle in a circle while holding something up to his ear with his left arm.\",\n",
      "  \"output\": {\n",
      "    \"Spine\": false,\n",
      "    \"Left_Arm\": true,\n",
      "    \"Right_Arm\": true,\n",
      "    \"Left_Leg\": false,\n",
      "    \"Right_Leg\": false\n",
      "  }\n",
      "}\n",
      "\n",
      "Extracted JSON string: {\n",
      "  \"action_description\": \"A person walks in a clockwise circle, while holding their right hand & arm up throughout the motion.\",\n",
      "  \"gold_standard\": \"The man is walking in a circle in a circle while holding something up to his ear with his left arm.\",\n",
      "  \"output\": {\n",
      "    \"Spine\": false,\n",
      "    \"Left_Arm\": true,\n",
      "    \"Right_Arm\": true,\n",
      "    \"Left_Leg\": false,\n",
      "    \"Right_Leg\": false\n",
      "  }\n",
      "}\n",
      "\n",
      "Comparison Feedback Results saved to comparison_feedback_results.json\n",
      "[\n",
      "  {\n",
      "    \"action_description\": \"A person walks in a clockwise circle, while holding their right hand & arm up throughout the motion.\",\n",
      "    \"gold_standard\": \"The man is walking in a circle in a circle while holding something up to his ear with his left arm.\",\n",
      "    \"output\": {\n",
      "      \"Spine\": false,\n",
      "      \"Left_Arm\": true,\n",
      "      \"Right_Arm\": true,\n",
      "      \"Left_Leg\": false,\n",
      "      \"Right_Leg\": false\n",
      "    }\n",
      "  }\n",
      "]\n"
     ]
    },
    {
     "data": {
      "text/plain": [
       "[{'action_description': 'A person walks in a clockwise circle, while holding their right hand & arm up throughout the motion.',\n",
       "  'gold_standard': 'The man is walking in a circle in a circle while holding something up to his ear with his left arm.',\n",
       "  'output': {'Spine': False,\n",
       "   'Left_Arm': True,\n",
       "   'Right_Arm': True,\n",
       "   'Left_Leg': False,\n",
       "   'Right_Leg': False}}]"
      ]
     },
     "execution_count": 22,
     "metadata": {},
     "output_type": "execute_result"
    }
   ],
   "source": [
    "###########################################################################################\n",
    " \n",
    "# Test the function with sample inputs\n",
    "description1 = \"A person walks in a clockwise circle, while holding their right hand & arm up throughout the motion.\"\n",
    "description2 = \"The man is walking in a circle in a circle while holding something up to his ear with his left arm.\"\n",
    "\n",
    "# Run the test function\n",
    "decide_which_part_needs_editing(description1, description2)\n",
    "\n"
   ]
  },
  {
   "cell_type": "code",
   "execution_count": 23,
   "id": "1dea058531f36d3d",
   "metadata": {
    "ExecuteTime": {
     "end_time": "2024-10-28T13:33:36.442643Z",
     "start_time": "2024-10-28T13:33:31.708595Z"
    }
   },
   "outputs": [
    {
     "name": "stdout",
     "output_type": "stream",
     "text": [
      "Comparison Feedback Results saved to comparison_feedback_results.json\n",
      "[\n",
      "  {\n",
      "    \"body part\": \"spine\",\n",
      "    \"issue\": \"The spine movement is not described in `description1`.\",\n",
      "    \"editing command\": \"The man's spine remains upright as he walks in a clockwise circle.\"\n",
      "  },\n",
      "  {\n",
      "    \"body part\": \"left arm\",\n",
      "    \"issue\": \"In `description1`, the left arm is not mentioned, whereas it is holding something up to the ear in `description2`.\",\n",
      "    \"suggestion\": \"The man's left arm is raised and holding something up to his ear.\"\n",
      "  },\n",
      "  {\n",
      "    \"body part\": \"right arm\",\n",
      "    \"issue\": \"In `description1`, the right arm is raised, but `description2` indicates a different action with the left arm.\",\n",
      "    \"suggestion\": \"The man's right arm is positioned up, while his left arm is raised to hold something to his ear.\"\n",
      "  },\n",
      "  {\n",
      "    \"body part\": \"left leg\",\n",
      "    \"issue\": \"The left leg is not mentioned in `description1`, but movements referring to both legs are implied in `description2`.\",\n",
      "    \"suggestion\": \"The man's left leg steps in a circular motion as he walks.\"\n",
      "  },\n",
      "  {\n",
      "    \"body part\": \"right leg\",\n",
      "    \"issue\": \"The right leg is described in `description1` by the action of walking, but the left leg's role is unspecified in the context of walking in a circle.\",\n",
      "    \"suggestion\": \"The man's right leg also participates in the circular walking motion while maintaining a stable position.\"\n",
      "  }\n",
      "]\n"
     ]
    },
    {
     "data": {
      "text/plain": [
       "[{'body part': 'spine',\n",
       "  'issue': 'The spine movement is not described in `description1`.',\n",
       "  'editing command': \"The man's spine remains upright as he walks in a clockwise circle.\"},\n",
       " {'body part': 'left arm',\n",
       "  'issue': 'In `description1`, the left arm is not mentioned, whereas it is holding something up to the ear in `description2`.',\n",
       "  'suggestion': \"The man's left arm is raised and holding something up to his ear.\"},\n",
       " {'body part': 'right arm',\n",
       "  'issue': 'In `description1`, the right arm is raised, but `description2` indicates a different action with the left arm.',\n",
       "  'suggestion': \"The man's right arm is positioned up, while his left arm is raised to hold something to his ear.\"},\n",
       " {'body part': 'left leg',\n",
       "  'issue': 'The left leg is not mentioned in `description1`, but movements referring to both legs are implied in `description2`.',\n",
       "  'suggestion': \"The man's left leg steps in a circular motion as he walks.\"},\n",
       " {'body part': 'right leg',\n",
       "  'issue': \"The right leg is described in `description1` by the action of walking, but the left leg's role is unspecified in the context of walking in a circle.\",\n",
       "  'suggestion': \"The man's right leg also participates in the circular walking motion while maintaining a stable position.\"}]"
      ]
     },
     "execution_count": 23,
     "metadata": {},
     "output_type": "execute_result"
    }
   ],
   "source": [
    "test_generate_comparison_feedback(description1, description2)"
   ]
  },
  {
   "cell_type": "code",
   "execution_count": null,
   "id": "1fbe6418b522330b",
   "metadata": {},
   "outputs": [],
   "source": []
  }
 ],
 "metadata": {
  "kernelspec": {
   "display_name": "MMM",
   "language": "python",
   "name": "python3"
  },
  "language_info": {
   "codemirror_mode": {
    "name": "ipython",
    "version": 3
   },
   "file_extension": ".py",
   "mimetype": "text/x-python",
   "name": "python",
   "nbconvert_exporter": "python",
   "pygments_lexer": "ipython3",
   "version": "3.12.3"
  }
 },
 "nbformat": 4,
 "nbformat_minor": 5
}
