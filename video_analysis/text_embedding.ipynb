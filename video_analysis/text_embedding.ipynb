{
 "cells": [
  {
   "cell_type": "code",
   "execution_count": 4,
   "metadata": {},
   "outputs": [
    {
     "name": "stderr",
     "output_type": "stream",
     "text": [
      "100%|███████████████████████████████████████| 338M/338M [00:15<00:00, 22.9MiB/s]\n"
     ]
    }
   ],
   "source": [
    "import torch\n",
    "import clip\n",
    "from PIL import Image\n",
    "\n",
    "# 下载并加载模型\n",
    "device = \"cuda:0\" if torch.cuda.is_available() else \"cpu\"\n",
    "model, preprocess = clip.load(\"ViT-B/32\", device=device,download_root='./clip')"
   ]
  },
  {
   "cell_type": "code",
   "execution_count": 6,
   "metadata": {},
   "outputs": [],
   "source": [
    "import os\n",
    "import re\n",
    "def sort_key(filename):\n",
    "    match = re.search(r'(\\d+)', filename) \n",
    "    return int(match.group(1)) if match else float('inf')\n",
    "\n",
    "def get_texts(text_dir):\n",
    "    txt = []\n",
    "    text_paths = os.listdir(text_dir)\n",
    "    text_paths = sorted(text_paths,key=sort_key)\n",
    "    for text_path in text_paths:\n",
    "        path = os.path.join(text_dir,text_path)\n",
    "        with open(path,'r') as f:\n",
    "            for line in f.readlines:\n",
    "                line = line.split('\\n')[0].strip()\n",
    "                txt.append(line)\n",
    "                break\n",
    "    return txt\n",
    "            \n",
    "def get_text_from_path(text_path):\n",
    "    txt = []\n",
    "    with open(text_path,'r') as f:\n",
    "            for line in f.readlines:\n",
    "                if line:\n",
    "                    line = line.split('\\n')[0].strip()\n",
    "                    txt.append(line)\n",
    "    return txt\n",
    "    \n",
    "    \n",
    "    "
   ]
  },
  {
   "cell_type": "code",
   "execution_count": 5,
   "metadata": {},
   "outputs": [],
   "source": [
    "def emb(texts):\n",
    "    text_tokens = clip.tokenize(texts).to(device)\n",
    "    with torch.no_grad():\n",
    "        text_embedding = model.encode_text(text_tokens)\n",
    "    return text_embedding\n",
    "    "
   ]
  },
  {
   "cell_type": "code",
   "execution_count": 7,
   "metadata": {},
   "outputs": [],
   "source": [
    "import torch.nn.functional as F\n",
    "def simi(emb1,emb2):\n",
    "    return F.cosine_similarity(emb1,emb2,dim=-1)"
   ]
  },
  {
   "cell_type": "code",
   "execution_count": null,
   "metadata": {},
   "outputs": [],
   "source": []
  }
 ],
 "metadata": {
  "kernelspec": {
   "display_name": "vl",
   "language": "python",
   "name": "python3"
  },
  "language_info": {
   "codemirror_mode": {
    "name": "ipython",
    "version": 3
   },
   "file_extension": ".py",
   "mimetype": "text/x-python",
   "name": "python",
   "nbconvert_exporter": "python",
   "pygments_lexer": "ipython3",
   "version": "3.10.15"
  }
 },
 "nbformat": 4,
 "nbformat_minor": 2
}
